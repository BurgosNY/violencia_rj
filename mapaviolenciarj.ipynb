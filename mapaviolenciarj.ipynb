{
 "cells": [
  {
   "cell_type": "code",
   "execution_count": 1,
   "metadata": {
    "collapsed": false
   },
   "outputs": [
    {
     "name": "stderr",
     "output_type": "stream",
     "text": [
      "/Users/pedroburgos/anaconda/lib/python2.7/site-packages/matplotlib/__init__.py:872: UserWarning: axes.color_cycle is deprecated and replaced with axes.prop_cycle; please use the latter.\n",
      "  warnings.warn(self.msg_depr % (key, alt_key))\n"
     ]
    }
   ],
   "source": [
    "import pandas as pd\n",
    "import numpy as np\n",
    "import seaborn as sns\n",
    "from collections import Counter"
   ]
  },
  {
   "cell_type": "code",
   "execution_count": 68,
   "metadata": {
    "collapsed": false
   },
   "outputs": [],
   "source": [
    "## Transformando o csv em um DataFrame de Pandas\n",
    "violencia = pd.read_csv('violencia_rj_limpo.csv')"
   ]
  },
  {
   "cell_type": "code",
   "execution_count": 20,
   "metadata": {
    "collapsed": false
   },
   "outputs": [
    {
     "data": {
      "text/html": [
       "<div>\n",
       "<table border=\"1\" class=\"dataframe\">\n",
       "  <thead>\n",
       "    <tr style=\"text-align: right;\">\n",
       "      <th></th>\n",
       "      <th>AISP_UnidadeTerritorial</th>\n",
       "      <th>tipo_arma</th>\n",
       "      <th>CISP_UnidadeTerritorial</th>\n",
       "      <th>cor_vitima</th>\n",
       "      <th>data_comunicacao</th>\n",
       "      <th>data_fato</th>\n",
       "      <th>faixa_hora_comunicacao</th>\n",
       "      <th>faixa_hora_fato</th>\n",
       "      <th>idade</th>\n",
       "      <th>genero</th>\n",
       "      <th>...</th>\n",
       "      <th>idade.1</th>\n",
       "      <th>Latitude</th>\n",
       "      <th>Longitude</th>\n",
       "      <th>Maior ou Menor de idade</th>\n",
       "      <th>Municipio</th>\n",
       "      <th>RISP_UnidadeTerritorial</th>\n",
       "      <th>regiao</th>\n",
       "      <th>tipo_homicidio</th>\n",
       "      <th>tipo_crime</th>\n",
       "      <th>unidade_t</th>\n",
       "    </tr>\n",
       "  </thead>\n",
       "  <tbody>\n",
       "    <tr>\n",
       "      <th>0</th>\n",
       "      <td>18</td>\n",
       "      <td>Arma Branca</td>\n",
       "      <td>32</td>\n",
       "      <td>Branca</td>\n",
       "      <td>1/1/15</td>\n",
       "      <td>1/1/15</td>\n",
       "      <td>Manha - 06h as 11h59</td>\n",
       "      <td>Tarde - 12h as 17h59</td>\n",
       "      <td>18 a 29 anos</td>\n",
       "      <td>Feminino</td>\n",
       "      <td>...</td>\n",
       "      <td>25</td>\n",
       "      <td>NaN</td>\n",
       "      <td>NaN</td>\n",
       "      <td>Maior de Idade</td>\n",
       "      <td>RIO DE JANEIRO</td>\n",
       "      <td>2</td>\n",
       "      <td>Capital</td>\n",
       "      <td>Homicidio Provocado por Emprego de Arma Branca</td>\n",
       "      <td>Homicidio Doloso</td>\n",
       "      <td>Anil, Cidade de Deus, Curicica, Gardenia Azul,...</td>\n",
       "    </tr>\n",
       "    <tr>\n",
       "      <th>1</th>\n",
       "      <td>15</td>\n",
       "      <td>Arma Branca</td>\n",
       "      <td>60</td>\n",
       "      <td>Parda</td>\n",
       "      <td>1/1/15</td>\n",
       "      <td>1/1/15</td>\n",
       "      <td>Madrugada - 00h as 05h59</td>\n",
       "      <td>Madrugada - 00h as 05h59</td>\n",
       "      <td>Nao Informado</td>\n",
       "      <td>Masculino</td>\n",
       "      <td>...</td>\n",
       "      <td>Nao Informado</td>\n",
       "      <td>-22.688164</td>\n",
       "      <td>-43.258949</td>\n",
       "      <td>Maior de Idade</td>\n",
       "      <td>DUQUE DE CAXIAS</td>\n",
       "      <td>3</td>\n",
       "      <td>Baixada Fluminense</td>\n",
       "      <td>Homicidio Provocado por Emprego de Arma Branca</td>\n",
       "      <td>Homicidio Doloso</td>\n",
       "      <td>Campos Elyseos</td>\n",
       "    </tr>\n",
       "    <tr>\n",
       "      <th>2</th>\n",
       "      <td>15</td>\n",
       "      <td>Arma Branca</td>\n",
       "      <td>59</td>\n",
       "      <td>Parda</td>\n",
       "      <td>1/1/15</td>\n",
       "      <td>1/1/15</td>\n",
       "      <td>Tarde - 12h as 17h59</td>\n",
       "      <td>Madrugada - 00h as 05h59</td>\n",
       "      <td>30 a 59 anos</td>\n",
       "      <td>Masculino</td>\n",
       "      <td>...</td>\n",
       "      <td>38</td>\n",
       "      <td>NaN</td>\n",
       "      <td>NaN</td>\n",
       "      <td>Maior de Idade</td>\n",
       "      <td>DUQUE DE CAXIAS</td>\n",
       "      <td>3</td>\n",
       "      <td>Baixada Fluminense</td>\n",
       "      <td>Homicidio Provocado por Emprego de Arma Branca</td>\n",
       "      <td>Homicidio Doloso</td>\n",
       "      <td>Duque de Caxias (Centro)</td>\n",
       "    </tr>\n",
       "    <tr>\n",
       "      <th>3</th>\n",
       "      <td>21</td>\n",
       "      <td>Arma de Fogo</td>\n",
       "      <td>64</td>\n",
       "      <td>Negra</td>\n",
       "      <td>1/1/15</td>\n",
       "      <td>1/1/15</td>\n",
       "      <td>Manha - 06h as 11h59</td>\n",
       "      <td>Noite - 18h as 23h59</td>\n",
       "      <td>18 a 29 anos</td>\n",
       "      <td>Masculino</td>\n",
       "      <td>...</td>\n",
       "      <td>18</td>\n",
       "      <td>NaN</td>\n",
       "      <td>NaN</td>\n",
       "      <td>Maior de Idade</td>\n",
       "      <td>SaO JOaO DE MERITI</td>\n",
       "      <td>3</td>\n",
       "      <td>Baixada Fluminense</td>\n",
       "      <td>Homicidio Provocado por Projetil de Arma de Fogo</td>\n",
       "      <td>Homicidio Doloso</td>\n",
       "      <td>Sao Joao de Meriti, Coelho da Rocha e Sao Mateus</td>\n",
       "    </tr>\n",
       "    <tr>\n",
       "      <th>4</th>\n",
       "      <td>39</td>\n",
       "      <td>Arma de Fogo</td>\n",
       "      <td>54</td>\n",
       "      <td>Parda</td>\n",
       "      <td>1/1/15</td>\n",
       "      <td>1/1/15</td>\n",
       "      <td>Manha - 06h as 11h59</td>\n",
       "      <td>Noite - 18h as 23h59</td>\n",
       "      <td>Nao Informado</td>\n",
       "      <td>Masculino</td>\n",
       "      <td>...</td>\n",
       "      <td>Nao Informado</td>\n",
       "      <td>-22.744311</td>\n",
       "      <td>-43.390479</td>\n",
       "      <td>Maior de Idade</td>\n",
       "      <td>BELFORD ROXO</td>\n",
       "      <td>3</td>\n",
       "      <td>Baixada Fluminense</td>\n",
       "      <td>Homicidio Provocado por Projetil de Arma de Fogo</td>\n",
       "      <td>Homicidio Doloso</td>\n",
       "      <td>Areia Branca, Jardim Redentor, Parque Sao Jose...</td>\n",
       "    </tr>\n",
       "  </tbody>\n",
       "</table>\n",
       "<p>5 rows × 22 columns</p>\n",
       "</div>"
      ],
      "text/plain": [
       "   AISP_UnidadeTerritorial     tipo_arma   CISP_UnidadeTerritorial cor_vitima  \\\n",
       "0                       18   Arma Branca                        32     Branca   \n",
       "1                       15   Arma Branca                        60      Parda   \n",
       "2                       15   Arma Branca                        59      Parda   \n",
       "3                       21  Arma de Fogo                        64      Negra   \n",
       "4                       39  Arma de Fogo                        54      Parda   \n",
       "\n",
       "  data_comunicacao data_fato    faixa_hora_comunicacao  \\\n",
       "0           1/1/15    1/1/15      Manha - 06h as 11h59   \n",
       "1           1/1/15    1/1/15  Madrugada - 00h as 05h59   \n",
       "2           1/1/15    1/1/15      Tarde - 12h as 17h59   \n",
       "3           1/1/15    1/1/15      Manha - 06h as 11h59   \n",
       "4           1/1/15    1/1/15      Manha - 06h as 11h59   \n",
       "\n",
       "            faixa_hora_fato          idade     genero  \\\n",
       "0      Tarde - 12h as 17h59   18 a 29 anos   Feminino   \n",
       "1  Madrugada - 00h as 05h59  Nao Informado  Masculino   \n",
       "2  Madrugada - 00h as 05h59   30 a 59 anos  Masculino   \n",
       "3      Noite - 18h as 23h59   18 a 29 anos  Masculino   \n",
       "4      Noite - 18h as 23h59  Nao Informado  Masculino   \n",
       "\n",
       "                         ...                                idade.1  \\\n",
       "0                        ...                                     25   \n",
       "1                        ...                          Nao Informado   \n",
       "2                        ...                                     38   \n",
       "3                        ...                                     18   \n",
       "4                        ...                          Nao Informado   \n",
       "\n",
       "    Latitude  Longitude  Maior ou Menor de idade           Municipio  \\\n",
       "0        NaN        NaN           Maior de Idade      RIO DE JANEIRO   \n",
       "1 -22.688164 -43.258949           Maior de Idade     DUQUE DE CAXIAS   \n",
       "2        NaN        NaN           Maior de Idade     DUQUE DE CAXIAS   \n",
       "3        NaN        NaN           Maior de Idade  SaO JOaO DE MERITI   \n",
       "4 -22.744311 -43.390479           Maior de Idade        BELFORD ROXO   \n",
       "\n",
       "   RISP_UnidadeTerritorial              regiao  \\\n",
       "0                        2             Capital   \n",
       "1                        3  Baixada Fluminense   \n",
       "2                        3  Baixada Fluminense   \n",
       "3                        3  Baixada Fluminense   \n",
       "4                        3  Baixada Fluminense   \n",
       "\n",
       "                                     tipo_homicidio        tipo_crime  \\\n",
       "0    Homicidio Provocado por Emprego de Arma Branca  Homicidio Doloso   \n",
       "1    Homicidio Provocado por Emprego de Arma Branca  Homicidio Doloso   \n",
       "2    Homicidio Provocado por Emprego de Arma Branca  Homicidio Doloso   \n",
       "3  Homicidio Provocado por Projetil de Arma de Fogo  Homicidio Doloso   \n",
       "4  Homicidio Provocado por Projetil de Arma de Fogo  Homicidio Doloso   \n",
       "\n",
       "                                           unidade_t  \n",
       "0  Anil, Cidade de Deus, Curicica, Gardenia Azul,...  \n",
       "1                                     Campos Elyseos  \n",
       "2                           Duque de Caxias (Centro)  \n",
       "3   Sao Joao de Meriti, Coelho da Rocha e Sao Mateus  \n",
       "4  Areia Branca, Jardim Redentor, Parque Sao Jose...  \n",
       "\n",
       "[5 rows x 22 columns]"
      ]
     },
     "execution_count": 20,
     "metadata": {},
     "output_type": "execute_result"
    }
   ],
   "source": [
    "## Checando as categorias\n",
    "violencia.head()"
   ]
  },
  {
   "cell_type": "code",
   "execution_count": 67,
   "metadata": {
    "collapsed": false
   },
   "outputs": [
    {
     "data": {
      "text/plain": [
       "Counter({'Branca': 45,\n",
       "         'Indigena': 1,\n",
       "         'Nao Informado': 29,\n",
       "         'Negra': 84,\n",
       "         'Parda': 148})"
      ]
     },
     "execution_count": 67,
     "metadata": {},
     "output_type": "execute_result"
    }
   ],
   "source": [
    "def vitimas_policia(regiao):\n",
    "    vitimas = []\n",
    "    for row in range(len(violencia)):\n",
    "        if 'Homicidio Decorrente' in violencia['tipo_homicidio'][row] and violencia['regiao'][row] == regiao:\n",
    "            vitimas.append(violencia['cor_vitima'][row])\n",
    "    return Counter(vitimas)\n",
    "\n",
    "vitimas_policia('Capital')"
   ]
  },
  {
   "cell_type": "code",
   "execution_count": 65,
   "metadata": {
    "collapsed": false
   },
   "outputs": [
    {
     "data": {
      "text/plain": [
       "Counter({'Branca': 11, 'Nao Informado': 4, 'Negra': 10, 'Parda': 23})"
      ]
     },
     "execution_count": 65,
     "metadata": {},
     "output_type": "execute_result"
    }
   ],
   "source": [
    "vitimas_policia('Interior')"
   ]
  },
  {
   "cell_type": "code",
   "execution_count": 66,
   "metadata": {
    "collapsed": false
   },
   "outputs": [
    {
     "data": {
      "text/plain": [
       "Counter({'Branca': 16, 'Nao Informado': 10, 'Negra': 37, 'Parda': 90})"
      ]
     },
     "execution_count": 66,
     "metadata": {},
     "output_type": "execute_result"
    }
   ],
   "source": [
    "vitimas_policia('Baixada Fluminense')"
   ]
  }
 ],
 "metadata": {
  "kernelspec": {
   "display_name": "Python 2",
   "language": "python",
   "name": "python2"
  },
  "language_info": {
   "codemirror_mode": {
    "name": "ipython",
    "version": 2
   },
   "file_extension": ".py",
   "mimetype": "text/x-python",
   "name": "python",
   "nbconvert_exporter": "python",
   "pygments_lexer": "ipython2",
   "version": "2.7.11"
  }
 },
 "nbformat": 4,
 "nbformat_minor": 0
}
